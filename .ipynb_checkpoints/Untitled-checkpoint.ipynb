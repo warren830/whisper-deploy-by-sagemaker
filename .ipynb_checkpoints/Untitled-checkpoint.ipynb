{
 "cells": [
  {
   "cell_type": "code",
   "execution_count": null,
   "id": "58d8f0f6-d6fe-4e78-9d48-b16fe7402afa",
   "metadata": {},
   "outputs": [
    {
     "name": "stderr",
     "output_type": "stream",
     "text": [
      "INFO:sagemaker:Creating model with name: huggingface-pytorch-inference-2024-11-14-01-42-34-706\n",
      "INFO:sagemaker:Creating endpoint-config with name whisper\n",
      "INFO:sagemaker:Creating endpoint with name whisper\n"
     ]
    },
    {
     "name": "stdout",
     "output_type": "stream",
     "text": [
      "--"
     ]
    }
   ],
   "source": [
    "import sagemaker\n",
    "import boto3\n",
    "import logging\n",
    "from sagemaker.huggingface import HuggingFaceModel\n",
    "\n",
    "# 设置日志\n",
    "logging.basicConfig(level=logging.INFO)\n",
    "logger = logging.getLogger(__name__)\n",
    "\n",
    "try:\n",
    "    role = sagemaker.get_execution_role()\n",
    "except ValueError:\n",
    "    iam = boto3.client('iam')\n",
    "    role = iam.get_role(RoleName='sagemaker_execution_role')['Role']['Arn']\n",
    "\n",
    "# Hub Model configuration. https://huggingface.co/models\n",
    "hub = {\n",
    "    'HF_MODEL_ID': 'BELLE-2/Belle-whisper-large-v3-zh-punct',\n",
    "    'HF_TASK': 'automatic-speech-recognition'\n",
    "}\n",
    "\n",
    "# create Hugging Face Model Class\n",
    "huggingface_model = HuggingFaceModel(\n",
    "    transformers_version='4.37.0',\n",
    "    pytorch_version='2.1.0',\n",
    "    py_version='py310',\n",
    "    env=hub,\n",
    "    role=role,\n",
    ")\n",
    "\n",
    "# deploy model to SageMaker Inference\n",
    "predictor = huggingface_model.deploy(\n",
    "    initial_instance_count=1,  # number of instances\n",
    "    instance_type=\"ml.g4dn.2xlarge\",  # ec2 instance type\n",
    "    endpoint_name = \"whisper\"\n",
    ")\n",
    "\n",
    "from sagemaker.serializers import DataSerializer\n",
    "\n",
    "predictor.serializer = DataSerializer(content_type='audio/x-audio')\n",
    "\n",
    "# Make sure the input file \"sample1.flac\" exists\n",
    "with open(\"/home/sagemaker-user/whisper_deploy/test.wav\", \"rb\") as f:\n",
    "    data = f.read()\n",
    "predictor.predict(data)"
   ]
  },
  {
   "cell_type": "code",
   "execution_count": 17,
   "id": "04d1a62c-6c97-4b2c-bc2c-656da5a02e1b",
   "metadata": {},
   "outputs": [
    {
     "name": "stdout",
     "output_type": "stream",
     "text": [
      "音频文件完整路径: /home/sagemaker-user/output.wav\n",
      "{'text': '我好伤心，我想哭。'}\n"
     ]
    }
   ],
   "source": [
    "import requests\n",
    "import json\n",
    "import boto3\n",
    "import base64\n",
    "import os\n",
    "\n",
    "def get_aws_signature(endpoint_name, region):\n",
    "    session = boto3.Session()\n",
    "    credentials = session.get_credentials()\n",
    "    \n",
    "    client = boto3.client(\n",
    "        'sagemaker-runtime',\n",
    "        region_name=region,\n",
    "        aws_access_key_id=credentials.access_key,\n",
    "        aws_secret_access_key=credentials.secret_key,\n",
    "        aws_session_token=credentials.token if credentials.token else None\n",
    "    )\n",
    "    \n",
    "    return client\n",
    "\n",
    "def invoke_endpoint_api(audio_file_path, endpoint_name, region='ap-northeast-1'):\n",
    "    # 获取AWS签名\n",
    "    client = get_aws_signature(endpoint_name, region)\n",
    "    \n",
    "    # 读取音频文件\n",
    "    with open(audio_file_path, 'rb') as f:\n",
    "        audio_data = f.read()\n",
    "    \n",
    "    # 调用endpoint\n",
    "    response = client.invoke_endpoint(\n",
    "        EndpointName=endpoint_name,\n",
    "        ContentType='audio/x-audio',\n",
    "        Body=audio_data\n",
    "    )\n",
    "    \n",
    "    # 解析响应\n",
    "    result = json.loads(response['Body'].read().decode())\n",
    "    return result\n",
    "\n",
    "# 使用示例\n",
    "abs_path = \"/home/sagemaker-user/output.wav\"\n",
    "print(f\"音频文件完整路径: {abs_path}\")\n",
    "\n",
    "if not os.path.exists(abs_path):\n",
    "    print(f\"错误：找不到音频文件\")\n",
    "    print(f\"当前工作目录: {os.getcwd()}\")\n",
    "    print(\"当前目录文件列表:\")\n",
    "    print('\\n'.join(os.listdir('.')))\n",
    "\n",
    "endpoint_name = \"whisper\"\n",
    "result = invoke_endpoint_api(abs_path, endpoint_name)\n",
    "print(result)"
   ]
  },
  {
   "cell_type": "code",
   "execution_count": 12,
   "id": "acefd2f0-5609-4058-8968-4e91558addad",
   "metadata": {},
   "outputs": [
    {
     "name": "stdout",
     "output_type": "stream",
     "text": [
      "音频文件验证/转换错误: Error opening '/home/sagemaker-user/whisper_deploy/test.wav': Format not recognised.\n",
      "处理失败: Error opening '/home/sagemaker-user/whisper_deploy/test.wav': Format not recognised.\n"
     ]
    }
   ],
   "source": [
    "import boto3\n",
    "import soundfile as sf\n",
    "import io\n",
    "\n",
    "def validate_and_convert_audio(input_file_path, target_format='wav'):\n",
    "    \"\"\"验证并转换音频文件\"\"\"\n",
    "    try:\n",
    "        # 读取音频文件\n",
    "        data, samplerate = sf.read(input_file_path)\n",
    "        \n",
    "        # 创建内存缓冲区\n",
    "        audio_buffer = io.BytIO()\n",
    "        \n",
    "        # 写入为WAV格式\n",
    "        sf.write(audio_buffer, data, samplerate, format=target_format)\n",
    "        \n",
    "        return audio_buffer.getvalue()\n",
    "    except Exception as e:\n",
    "        print(f\"音频文件验证/转换错误: {str(e)}\")\n",
    "        raise\n",
    "\n",
    "def invoke_whisper_endpoint(audio_data, endpoint_name='whisper'):\n",
    "    \"\"\"调用Whisper endpoint\"\"\"\n",
    "    try:\n",
    "        client = boto3.client('sagemaker-runtime')\n",
    "        \n",
    "        response = client.invoke_endpoint(\n",
    "            EndpointName=endpoint_name,\n",
    "            ContentType='audio/x-audio',\n",
    "            Body=audio_data\n",
    "        )\n",
    "        \n",
    "        return response['Body'].read().decode()\n",
    "    except Exception as e:\n",
    "        print(f\"调用endpoint错误: {str(e)}\")\n",
    "        raise\n",
    "\n",
    "# 使用示例\n",
    "try:\n",
    "    # 1. 首先验证并转换音频\n",
    "    audio_data = validate_and_convert_audio('/home/sagemaker-user/whisper_deploy/test.wav')\n",
    "    \n",
    "    # 2. 调用endpoint\n",
    "    result = invoke_whisper_endpoint(audio_data)\n",
    "    print(result)\n",
    "except Exception as e:\n",
    "    print(f\"处理失败: {str(e)}\")"
   ]
  },
  {
   "cell_type": "code",
   "execution_count": 14,
   "id": "ac2ae7f1-2647-46d1-86b3-a91f6097bc96",
   "metadata": {},
   "outputs": [
    {
     "name": "stdout",
     "output_type": "stream",
     "text": [
      "zzz\n"
     ]
    },
    {
     "ename": "ModelError",
     "evalue": "An error occurred (ModelError) when calling the InvokeEndpoint operation: Received client error (400) from primary with message \"{\n  \"code\": 400,\n  \"type\": \"InternalServerException\",\n  \"message\": \"Soundfile is either not in the correct format or is malformed. Ensure that the soundfile has a valid audio file extension (e.g. wav, flac or mp3) and is not corrupted. If reading from a remote URL, ensure that the URL is the full address to **download** the audio file.\"\n}\n\". See https://ap-northeast-1.console.aws.amazon.com/cloudwatch/home?region=ap-northeast-1#logEventViewer:group=/aws/sagemaker/Endpoints/whisper in account 034362076319 for more information.",
     "output_type": "error",
     "traceback": [
      "\u001b[0;31m---------------------------------------------------------------------------\u001b[0m",
      "\u001b[0;31mModelError\u001b[0m                                Traceback (most recent call last)",
      "Cell \u001b[0;32mIn[14], line 18\u001b[0m\n\u001b[1;32m     15\u001b[0m     \u001b[38;5;28;01mreturn\u001b[39;00m result\n\u001b[1;32m     17\u001b[0m \u001b[38;5;66;03m# 使用示例\u001b[39;00m\n\u001b[0;32m---> 18\u001b[0m result \u001b[38;5;241m=\u001b[39m \u001b[43mtranscribe_audio\u001b[49m\u001b[43m(\u001b[49m\u001b[38;5;124;43m\"\u001b[39;49m\u001b[38;5;124;43m/home/sagemaker-user/whisper_deploy/test.wav\u001b[39;49m\u001b[38;5;124;43m\"\u001b[39;49m\u001b[43m)\u001b[49m\n\u001b[1;32m     19\u001b[0m \u001b[38;5;28mprint\u001b[39m(result)\n",
      "Cell \u001b[0;32mIn[14], line 14\u001b[0m, in \u001b[0;36mtranscribe_audio\u001b[0;34m(file_path, endpoint_name)\u001b[0m\n\u001b[1;32m     12\u001b[0m \u001b[38;5;28mprint\u001b[39m(\u001b[38;5;124m'\u001b[39m\u001b[38;5;124mzzz\u001b[39m\u001b[38;5;124m'\u001b[39m)\n\u001b[1;32m     13\u001b[0m \u001b[38;5;66;03m# 让模型处理音频文件\u001b[39;00m\n\u001b[0;32m---> 14\u001b[0m result \u001b[38;5;241m=\u001b[39m \u001b[43mpredictor\u001b[49m\u001b[38;5;241;43m.\u001b[39;49m\u001b[43mpredict\u001b[49m\u001b[43m(\u001b[49m\u001b[43mdata\u001b[49m\u001b[43m)\u001b[49m\n\u001b[1;32m     15\u001b[0m \u001b[38;5;28;01mreturn\u001b[39;00m result\n",
      "File \u001b[0;32m/opt/conda/lib/python3.11/site-packages/sagemaker/base_predictor.py:212\u001b[0m, in \u001b[0;36mPredictor.predict\u001b[0;34m(self, data, initial_args, target_model, target_variant, inference_id, custom_attributes, component_name)\u001b[0m\n\u001b[1;32m    209\u001b[0m \u001b[38;5;28;01mif\u001b[39;00m inference_component_name:\n\u001b[1;32m    210\u001b[0m     request_args[\u001b[38;5;124m\"\u001b[39m\u001b[38;5;124mInferenceComponentName\u001b[39m\u001b[38;5;124m\"\u001b[39m] \u001b[38;5;241m=\u001b[39m inference_component_name\n\u001b[0;32m--> 212\u001b[0m response \u001b[38;5;241m=\u001b[39m \u001b[38;5;28;43mself\u001b[39;49m\u001b[38;5;241;43m.\u001b[39;49m\u001b[43msagemaker_session\u001b[49m\u001b[38;5;241;43m.\u001b[39;49m\u001b[43msagemaker_runtime_client\u001b[49m\u001b[38;5;241;43m.\u001b[39;49m\u001b[43minvoke_endpoint\u001b[49m\u001b[43m(\u001b[49m\u001b[38;5;241;43m*\u001b[39;49m\u001b[38;5;241;43m*\u001b[39;49m\u001b[43mrequest_args\u001b[49m\u001b[43m)\u001b[49m\n\u001b[1;32m    213\u001b[0m \u001b[38;5;28;01mreturn\u001b[39;00m \u001b[38;5;28mself\u001b[39m\u001b[38;5;241m.\u001b[39m_handle_response(response)\n",
      "File \u001b[0;32m/opt/conda/lib/python3.11/site-packages/botocore/client.py:569\u001b[0m, in \u001b[0;36mClientCreator._create_api_method.<locals>._api_call\u001b[0;34m(self, *args, **kwargs)\u001b[0m\n\u001b[1;32m    565\u001b[0m     \u001b[38;5;28;01mraise\u001b[39;00m \u001b[38;5;167;01mTypeError\u001b[39;00m(\n\u001b[1;32m    566\u001b[0m         \u001b[38;5;124mf\u001b[39m\u001b[38;5;124m\"\u001b[39m\u001b[38;5;132;01m{\u001b[39;00mpy_operation_name\u001b[38;5;132;01m}\u001b[39;00m\u001b[38;5;124m() only accepts keyword arguments.\u001b[39m\u001b[38;5;124m\"\u001b[39m\n\u001b[1;32m    567\u001b[0m     )\n\u001b[1;32m    568\u001b[0m \u001b[38;5;66;03m# The \"self\" in this scope is referring to the BaseClient.\u001b[39;00m\n\u001b[0;32m--> 569\u001b[0m \u001b[38;5;28;01mreturn\u001b[39;00m \u001b[38;5;28;43mself\u001b[39;49m\u001b[38;5;241;43m.\u001b[39;49m\u001b[43m_make_api_call\u001b[49m\u001b[43m(\u001b[49m\u001b[43moperation_name\u001b[49m\u001b[43m,\u001b[49m\u001b[43m \u001b[49m\u001b[43mkwargs\u001b[49m\u001b[43m)\u001b[49m\n",
      "File \u001b[0;32m/opt/conda/lib/python3.11/site-packages/botocore/client.py:1023\u001b[0m, in \u001b[0;36mBaseClient._make_api_call\u001b[0;34m(self, operation_name, api_params)\u001b[0m\n\u001b[1;32m   1019\u001b[0m     error_code \u001b[38;5;241m=\u001b[39m error_info\u001b[38;5;241m.\u001b[39mget(\u001b[38;5;124m\"\u001b[39m\u001b[38;5;124mQueryErrorCode\u001b[39m\u001b[38;5;124m\"\u001b[39m) \u001b[38;5;129;01mor\u001b[39;00m error_info\u001b[38;5;241m.\u001b[39mget(\n\u001b[1;32m   1020\u001b[0m         \u001b[38;5;124m\"\u001b[39m\u001b[38;5;124mCode\u001b[39m\u001b[38;5;124m\"\u001b[39m\n\u001b[1;32m   1021\u001b[0m     )\n\u001b[1;32m   1022\u001b[0m     error_class \u001b[38;5;241m=\u001b[39m \u001b[38;5;28mself\u001b[39m\u001b[38;5;241m.\u001b[39mexceptions\u001b[38;5;241m.\u001b[39mfrom_code(error_code)\n\u001b[0;32m-> 1023\u001b[0m     \u001b[38;5;28;01mraise\u001b[39;00m error_class(parsed_response, operation_name)\n\u001b[1;32m   1024\u001b[0m \u001b[38;5;28;01melse\u001b[39;00m:\n\u001b[1;32m   1025\u001b[0m     \u001b[38;5;28;01mreturn\u001b[39;00m parsed_response\n",
      "\u001b[0;31mModelError\u001b[0m: An error occurred (ModelError) when calling the InvokeEndpoint operation: Received client error (400) from primary with message \"{\n  \"code\": 400,\n  \"type\": \"InternalServerException\",\n  \"message\": \"Soundfile is either not in the correct format or is malformed. Ensure that the soundfile has a valid audio file extension (e.g. wav, flac or mp3) and is not corrupted. If reading from a remote URL, ensure that the URL is the full address to **download** the audio file.\"\n}\n\". See https://ap-northeast-1.console.aws.amazon.com/cloudwatch/home?region=ap-northeast-1#logEventViewer:group=/aws/sagemaker/Endpoints/whisper in account 034362076319 for more information."
     ]
    }
   ],
   "source": [
    "from sagemaker.serializers import DataSerializer\n",
    "from sagemaker.predictor import Predictor\n",
    "\n",
    "def transcribe_audio(file_path, endpoint_name='whisper'):\n",
    "    # 创建预测器\n",
    "    predictor = Predictor(endpoint_name=endpoint_name)\n",
    "    predictor.serializer = DataSerializer(content_type='audio/x-audio')\n",
    "    \n",
    "    # 直接读取并传递文件\n",
    "    with open(file_path, \"rb\") as f:\n",
    "        data = f.read()\n",
    "    print('zzz')\n",
    "    # 让模型处理音频文件\n",
    "    result = predictor.predict(data)\n",
    "    return result\n",
    "\n",
    "# 使用示例\n",
    "result = transcribe_audio(\"/home/sagemaker-user/whisper_deploy/test.wav\")\n",
    "print(result)"
   ]
  }
 ],
 "metadata": {
  "kernelspec": {
   "display_name": "Python 3 (ipykernel)",
   "language": "python",
   "name": "python3"
  },
  "language_info": {
   "codemirror_mode": {
    "name": "ipython",
    "version": 3
   },
   "file_extension": ".py",
   "mimetype": "text/x-python",
   "name": "python",
   "nbconvert_exporter": "python",
   "pygments_lexer": "ipython3",
   "version": "3.11.9"
  }
 },
 "nbformat": 4,
 "nbformat_minor": 5
}
